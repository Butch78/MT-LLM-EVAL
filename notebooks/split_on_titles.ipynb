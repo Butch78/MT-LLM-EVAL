{
 "cells": [
  {
   "cell_type": "code",
   "execution_count": 5,
   "metadata": {},
   "outputs": [
    {
     "ename": "SyntaxError",
     "evalue": "incomplete input (4079073296.py, line 24)",
     "output_type": "error",
     "traceback": [
      "\u001b[0;36m  Cell \u001b[0;32mIn[5], line 24\u001b[0;36m\u001b[0m\n\u001b[0;31m    split_pdf_by_toc(\"TOC_Effective_Software_Testing.pdf\", toc)\u001b[0m\n\u001b[0m                                                               ^\u001b[0m\n\u001b[0;31mSyntaxError\u001b[0m\u001b[0;31m:\u001b[0m incomplete input\n"
     ]
    }
   ],
   "source": [
    "import PyPDF2\n",
    "\n",
    "\n",
    "def split_pdf_by_toc(pdf_file, toc):\n",
    "    # Open the PDF file\n",
    "    with open(pdf_file, \"rb\") as file:\n",
    "        reader = PyPDF2.PdfReader(file)\n",
    "\n",
    "        for title, start_page, end_page in toc:\n",
    "            writer = PyPDF2.PdfWriter()\n",
    "\n",
    "            # Add pages to the writer\n",
    "            for page_num in range(start_page, end_page):\n",
    "                page = reader.pages[page_num]\n",
    "                writer.add_page(page)\n",
    "\n",
    "            # Write the section to a new PDF file\n",
    "            with open(f\"{title}.pdf\", \"wb\") as output_file:\n",
    "                writer.write(output_file)\n",
    "\n",
    "\n",
    "# Example usage:\n",
    "chapter_1_sections = [\n",
    "    \"Effective and systematic software testing\",\n",
    "    \"1.1 Developers who test vs. developers who do not\",\n",
    "    \"1.2 Effective software testing for developers\",\n",
    "    \"Effective testing in the development process\",\n",
    "    \"Effective testing as an iterative process\",\n",
    "    \"Focusing on development and then on testing\",\n",
    "    \"The myth of “correctness by design”\",\n",
    "    \"The cost of testing\",\n",
    "    \"The meaning of effective and systematic\",\n",
    "    \"The role of test automation\"\n",
    "    \"Principles of software testing (or, why testing is so difficult)\",\n",
    "    \"Exhaustive testing is impossible\",\n",
    "    \"Knowing when to stop testing\",\n",
    "    \"Variability is important (the pesticide paradox)\",\n",
    "    \"Bugs happen in some places more than others\",\n",
    "    \"No matter what testing you do, it will never be perfect or enough\",\n",
    "    \"Context is king\",\n",
    "    \"Verification is not validation\",\n",
    "    \"The testing pyramid, and where we should focus\",\n",
    "    \"Unit testing\",\n",
    "    \"Integration testing\",\n",
    "    \"System testing\",\n",
    "    \"When to use each test level\",\n",
    "    \"Why do I favor unit tests?\",\n",
    "    \"What do I test at the different levels?\",\n",
    "    \"What if you disagree with the testing pyramid?\",\n",
    "    \"Will this book help you find all the bugs?\"\n",
    "\n",
    "]\n",
    "\n",
    "chapter_2_sections = [\"\"]\n",
    "split_pdf_by_toc(\"TOC_Effective_Software_Testing.pdf\", toc)"
   ]
  },
  {
   "cell_type": "code",
   "execution_count": null,
   "metadata": {},
   "outputs": [],
   "source": []
  }
 ],
 "metadata": {
  "kernelspec": {
   "display_name": ".venv",
   "language": "python",
   "name": "python3"
  },
  "language_info": {
   "codemirror_mode": {
    "name": "ipython",
    "version": 3
   },
   "file_extension": ".py",
   "mimetype": "text/x-python",
   "name": "python",
   "nbconvert_exporter": "python",
   "pygments_lexer": "ipython3",
   "version": "3.10.13"
  }
 },
 "nbformat": 4,
 "nbformat_minor": 2
}
